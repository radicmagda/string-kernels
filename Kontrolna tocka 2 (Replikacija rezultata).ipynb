{
 "cells": [
  {
   "cell_type": "markdown",
   "metadata": {},
   "source": [
    "# Kontrolna točka 2 - Replikacija rezultata"
   ]
  },
  {
   "cell_type": "markdown",
   "metadata": {},
   "source": [
    "U ovoj Jupiter bilježnici tabularno i vizualno predočujem rezultate dobivene replikacijom postupaka provođenih u radu.\n",
    "- sav postupak/kod implementacije klasifikacije, treniranja i testiranja nalazi se u **ssk_modules/experiments.ipynb**\n",
    "- rezultati (u izvornom obliku) izvođenja svih eksperimenata pohranjeni su u **data/**\n",
    "- u ovoj bilježnici samo prezentiram dobivene rezultate te opisujem postupak kojim sam došla do njih"
   ]
  },
  {
   "cell_type": "markdown",
   "metadata": {},
   "source": [
    "## Eksperiment 1 - Variranje k (duljine podniza)\n"
   ]
  },
  {
   "cell_type": "markdown",
   "metadata": {},
   "source": []
  },
  {
   "cell_type": "markdown",
   "metadata": {},
   "source": [
    "## Eksperiment 2 - Variranje lambda (faktor pada težine)"
   ]
  },
  {
   "cell_type": "markdown",
   "metadata": {},
   "source": []
  },
  {
   "cell_type": "code",
   "execution_count": null,
   "metadata": {},
   "outputs": [],
   "source": []
  },
  {
   "cell_type": "markdown",
   "metadata": {},
   "source": [
    "## Eksperiment 3 - Kombinacija dviju SSK s različitim k"
   ]
  },
  {
   "cell_type": "markdown",
   "metadata": {},
   "source": [
    "## Eksperiment 4 - Kombinacija SSK i NGK"
   ]
  },
  {
   "cell_type": "markdown",
   "metadata": {},
   "source": [
    "## Eksperiment 5 - Kombinacija dviju SSK s različitim &lambda;"
   ]
  }
 ],
 "metadata": {
  "language_info": {
   "name": "python"
  }
 },
 "nbformat": 4,
 "nbformat_minor": 2
}
