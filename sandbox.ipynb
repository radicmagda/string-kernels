{
 "cells": [
  {
   "cell_type": "code",
   "execution_count": 10,
   "metadata": {},
   "outputs": [
    {
     "name": "stderr",
     "output_type": "stream",
     "text": [
      "[nltk_data] Downloading package stopwords to\n",
      "[nltk_data]     C:\\Users\\magda\\AppData\\Roaming\\nltk_data...\n",
      "[nltk_data]   Package stopwords is already up-to-date!\n",
      "[nltk_data] Downloading package punkt to\n",
      "[nltk_data]     C:\\Users\\magda\\AppData\\Roaming\\nltk_data...\n",
      "[nltk_data]   Package punkt is already up-to-date!\n"
     ]
    },
    {
     "data": {
      "text/plain": [
       "True"
      ]
     },
     "execution_count": 10,
     "metadata": {},
     "output_type": "execute_result"
    }
   ],
   "source": [
    "import pandas as pd\n",
    "import string\n",
    "import nltk\n",
    "nltk.download('stopwords')\n",
    "nltk.download('punkt')"
   ]
  },
  {
   "cell_type": "code",
   "execution_count": 11,
   "metadata": {},
   "outputs": [
    {
     "name": "stdout",
     "output_type": "stream",
     "text": [
      "Original DataFrame:\n",
      "                   topics                                          body\n",
      "0       smart-good-school  This is a sample text with some punctuation!\n",
      "1  funny-interesting-home     Another example with interesting content.\n",
      "2             smart-funny                       A funny and smart text.\n",
      "3               good-home                          A good home for all.\n",
      "4       smart-good-school                          Smart, good, school.\n",
      "\n",
      "DataFrame with Processed 'body' Column:\n",
      "                   topics                         body_processed\n",
      "0       smart-good-school            sample text     punctuation\n",
      "1  funny-interesting-home  another example   interesting content\n",
      "2             smart-funny                     funny   smart text\n",
      "3               good-home                          good home    \n",
      "4       smart-good-school                      smart good school\n"
     ]
    }
   ],
   "source": [
    "import pandas as pd\n",
    "import string\n",
    "from nltk.corpus import stopwords\n",
    "from nltk.tokenize import word_tokenize\n",
    "\n",
    "# Example DataFrame\n",
    "data = {'topics': ['smart-good-school', 'funny-interesting-home', 'smart-funny', 'good-home', 'smart-good-school'],\n",
    "        'body': ['This is a sample text with some punctuation!',\n",
    "                 'Another example with interesting content.',\n",
    "                 'A funny and smart text.',\n",
    "                 'A good home for all.',\n",
    "                 'Smart, good, school.']}\n",
    "\n",
    "df = pd.DataFrame(data)\n",
    "\n",
    "# Function to replace punctuation and stop words with spaces, removes multiple spaces\n",
    "def preprocess_text(text):\n",
    "    '''replaces punctuation and stopwords with spaces, turns everything to lowercase, removes possible multiple spaces'''\n",
    "    # Replace punctuation with space\n",
    "    translator = str.maketrans(string.punctuation, ' ' * len(string.punctuation))\n",
    "    text = text.translate(translator)\n",
    "    \n",
    "    # Tokenize the text\n",
    "    tokens = word_tokenize(text.lower())  # Convert to lowercase for consistency\n",
    "    \n",
    "    # Replace stop words with space\n",
    "    stop_words = set(stopwords.words('english'))\n",
    "    tokens = [' ' if word in stop_words else word for word in tokens]\n",
    "    \n",
    "    # Join the tokens back into a string\n",
    "    processed_text = ' '.join(tokens)\n",
    "\n",
    "    # replace multiple contiguous spaces with a single space\n",
    "    processed_text = ' '.join(processed_text.split())\n",
    "    \n",
    "    return processed_text\n",
    "\n",
    "# Apply the preprocessing function to the 'body' column\n",
    "df['body_processed'] = df['body'].apply(preprocess_text)\n",
    "\n",
    "# Display the result\n",
    "print(\"Original DataFrame:\")\n",
    "print(df[['topics', 'body']])\n",
    "\n",
    "print(\"\\nDataFrame with Processed 'body' Column:\")\n",
    "print(df[['topics', 'body_processed']])\n"
   ]
  }
 ],
 "metadata": {
  "kernelspec": {
   "display_name": "Python 3",
   "language": "python",
   "name": "python3"
  },
  "language_info": {
   "codemirror_mode": {
    "name": "ipython",
    "version": 3
   },
   "file_extension": ".py",
   "mimetype": "text/x-python",
   "name": "python",
   "nbconvert_exporter": "python",
   "pygments_lexer": "ipython3",
   "version": "3.10.0"
  }
 },
 "nbformat": 4,
 "nbformat_minor": 2
}
