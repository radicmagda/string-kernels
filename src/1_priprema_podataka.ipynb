{
 "cells": [
  {
   "cell_type": "markdown",
   "metadata": {},
   "source": [
    "# Kontrolna točka 1 - Priprema i vizualizacija podataka"
   ]
  },
  {
   "cell_type": "markdown",
   "metadata": {},
   "source": [
    "## Učitavanje podataka u Pandas Dataframe\n"
   ]
  },
  {
   "cell_type": "code",
   "execution_count": 1,
   "metadata": {},
   "outputs": [],
   "source": [
    "import xml.etree.ElementTree as ET\n",
    "import pandas as pd\n",
    "from bs4 import BeautifulSoup\n",
    "import os\n",
    "import re"
   ]
  },
  {
   "cell_type": "code",
   "execution_count": 2,
   "metadata": {},
   "outputs": [],
   "source": [
    "#custom SGM file parser class taken from this article: https://dzlab.github.io/nlp/2018/11/17/parsing-xml-into-dataframe/\n",
    "from datetime import datetime\n",
    "from lxml import objectify\n",
    "\n",
    "class ReutersSGMLParser():\n",
    "    \"\"\"A helper class for parsing Reuters-21578 XGML file formats\"\"\"\n",
    "    def __init__(self):\n",
    "        self.bad_char_pattern = re.compile(r\"&#\\d*;\")\n",
    "        self.document_pattern = re.compile(r\"<REUTERS.*?<\\/REUTERS>\", re.S)\n",
    "        self.date_pattern = re.compile(r'[0-9]+-[A-Z]{3}-[0-9]{4} *[0-9]{2}:[0-9]{2}:[0-9]{2}\\.[0-9]+')\n",
    "\n",
    "    def empty_row(self):\n",
    "        \"\"\"Get an empty rows which can be transformed into a dataframe\"\"\"\n",
    "        rows = {\n",
    "            'old_id'     : [],\n",
    "            'new_id'     : [],\n",
    "            'has_topics' : [],\n",
    "            'date'       : [],\n",
    "            'topics'     : [],\n",
    "            'places'     : [],\n",
    "            'people'     : [],\n",
    "            'orgs'       : [],\n",
    "            'exchanges'  : [],\n",
    "            'companies'  : [],\n",
    "            'title'      : [],\n",
    "            'dateline'   : [],\n",
    "            'body'       : [],\n",
    "            'author'     : [],\n",
    "            'cgi_split'  : [],\n",
    "            'lewis_split': []\n",
    "        }\n",
    "        return rows\n",
    "\n",
    "    def get_text(self, elem, tagname, d_tag = False):\n",
    "        \"\"\"Get the text of a tag or empty string\"\"\"\n",
    "        txt = getattr(elem, tagname, '')\n",
    "        if txt == '':\n",
    "            return ''\n",
    "        if d_tag:\n",
    "            txt = txt.D\n",
    "        txt = txt.text.strip()\n",
    "        return txt\n",
    "\n",
    "    def get_date(self, elem, tagname):\n",
    "        \"\"\"Get the datetime of a tag or empty string\"\"\"\n",
    "        date_str = getattr(elem, tagname, '')\n",
    "        if date_str == '':\n",
    "            return ''\n",
    "        date_str = date_str.text.strip()\n",
    "        try:\n",
    "            date_str = self.date_pattern.findall(date_str)[0]\n",
    "        except IndexError as ie:\n",
    "            print('Cannot find date patter in: %s' % date_str)\n",
    "            return ''\n",
    "        date = datetime.strptime(date_str, '%d-%b-%Y %H:%M:%S.%f')\n",
    "        return date\n",
    "\n",
    "    def parse_header(self, rows, doc):\n",
    "        \"\"\"parse the header.\n",
    "        e.g. <REUTERS TOPICS=\"YES\" LEWISSPLIT=\"TRAIN\" CGISPLIT=\"TRAINING-SET\" OLDID=\"5544\" NEWID=\"1\">\"\"\"\n",
    "        items = dict(doc.items())\n",
    "        rows[   'old_id'  ].append(items.get('OLDID', ''))\n",
    "        rows[   'new_id'  ].append(items.get('NEWID', ''))\n",
    "        rows[ 'has_topics'].append(bool(items.get('TOPICS', '')))\n",
    "        rows[ 'cgi_split' ].append(items.get('CGISPLIT', ''))\n",
    "        rows['lewis_split'].append(items.get('LEWISSPLIT', ''))\n",
    "\n",
    "    def parse_string(self, str):\n",
    "        # remove bad characters\n",
    "        xml_data = self.bad_char_pattern.sub('', str)\n",
    "        # find documents\n",
    "        documents = self.document_pattern.findall(xml_data)\n",
    "        # parse document's elements\n",
    "        rows = self.empty_row()\n",
    "        for doc in documents:\n",
    "            xml_doc = objectify.fromstring(doc)\n",
    "            # parse attributes of the header\n",
    "            self.parse_header(rows, xml_doc)\n",
    "            # read DATE\n",
    "            rows[  'date'  ].append(self.get_date(xml_doc, 'DATE'))\n",
    "            # read TOPICS\n",
    "            rows[  'topics'  ].append(self.get_text(xml_doc, 'TOPICS', True))\n",
    "            # read PLACES\n",
    "            rows[  'places'  ].append(self.get_text(xml_doc, 'PLACES', True))\n",
    "            # read PEOPLE\n",
    "            rows[ 'people'  ].append(self.get_text(xml_doc, 'PEOPLE', True))\n",
    "            # read ORGS\n",
    "            rows[ 'orgs'  ].append(self.get_text(xml_doc, 'ORGS', True))\n",
    "            # read EXCHANGES\n",
    "            rows[ 'exchanges'  ].append(self.get_text(xml_doc, 'EXCHANGES', True))\n",
    "            # read COMPANIES\n",
    "            rows[ 'companies'  ].append(self.get_text(xml_doc, 'COMPANIES', True))\n",
    "            # read the TEXT tag\n",
    "            text = xml_doc.TEXT\n",
    "            rows[ 'title'  ].append(self.get_text(text, 'TITLE'))\n",
    "            rows['dateline'].append(self.get_text(text, 'DATELINE'))\n",
    "            rows[  'body'  ].append(self.get_text(text, 'BODY'))\n",
    "            rows[  'author'  ].append(self.get_text(text, 'AUTHOR'))\n",
    "        return rows\n",
    "\n",
    "    def parse(self, path):\n",
    "        \"\"\"parse a file from the Reuters dataset\n",
    "        \"\"\"\n",
    "        # open xml file\n",
    "        xml_data = ''\n",
    "        try:\n",
    "            xml_data = open(path, 'r', encoding=\"utf-8\").read()\n",
    "        except UnicodeDecodeError as ude:\n",
    "            print('Failed to read %s as utf-8' % path)\n",
    "            lines = []\n",
    "            for line in open(path, 'rb').readlines():\n",
    "                line = line.decode('utf-8','ignore') #.encode(\"utf-8\")\n",
    "                lines.append(line)\n",
    "            xml_data = '\\n'.join(lines)\n",
    "        return self.parse_string(xml_data) "
   ]
  },
  {
   "cell_type": "code",
   "execution_count": 3,
   "metadata": {},
   "outputs": [
    {
     "name": "stdout",
     "output_type": "stream",
     "text": [
      "Failed to read c:\\Users\\magda\\Desktop\\diplomski-1.sem\\uuzop\\uuzop_projekt\\reuters21578\\reut2-017.sgm as utf-8\n",
      "Cannot find date patter in: 31-MAR-1987 605:12:19.12\n"
     ]
    },
    {
     "name": "stderr",
     "output_type": "stream",
     "text": [
      "C:\\Users\\magda\\AppData\\Local\\Temp/ipykernel_16584/1432737591.py:15: FutureWarning: Inferring datetime64[ns] from data containing strings is deprecated and will be removed in a future version. To retain the old behavior explicitly pass Series(data, dtype=datetime64[ns])\n",
      "  reuters_original = pd.DataFrame(data, columns=data.keys())\n"
     ]
    }
   ],
   "source": [
    "parser = ReutersSGMLParser()\n",
    "data = parser.empty_row()\n",
    "\n",
    "reuters_path=os.path.join(os.getcwd(), 'reuters21578')\n",
    "\n",
    "filepaths=[os.path.join(reuters_path, filename) for filename in os.listdir(reuters_path) if filename.endswith('.sgm')]\n",
    "\n",
    "for path in  filepaths:\n",
    "    # parse current document\n",
    "    rows = parser.parse(path)\n",
    "    # append rows into dataset\n",
    "    for key in data.keys():\n",
    "        data[key] = data[key] + rows[key]\n",
    "\n",
    "reuters_original = pd.DataFrame(data, columns=data.keys())\n",
    "#df = df.astype(dtype= {\"date\":\"datetime64[]\"})\n"
   ]
  },
  {
   "cell_type": "code",
   "execution_count": 4,
   "metadata": {},
   "outputs": [
    {
     "data": {
      "text/plain": [
       "(21578, 16)"
      ]
     },
     "execution_count": 4,
     "metadata": {},
     "output_type": "execute_result"
    }
   ],
   "source": [
    "reuters_original.shape"
   ]
  },
  {
   "cell_type": "code",
   "execution_count": 5,
   "metadata": {},
   "outputs": [
    {
     "data": {
      "text/plain": [
       "array(['old_id', 'new_id', 'has_topics', 'date', 'topics', 'places',\n",
       "       'people', 'orgs', 'exchanges', 'companies', 'title', 'dateline',\n",
       "       'body', 'author', 'cgi_split', 'lewis_split'], dtype=object)"
      ]
     },
     "execution_count": 5,
     "metadata": {},
     "output_type": "execute_result"
    }
   ],
   "source": [
    "reuters_original.columns.values"
   ]
  },
  {
   "cell_type": "markdown",
   "metadata": {},
   "source": [
    "Značajke:\n",
    "- **oldid** - id dokumenta prema Reuters-22173 klasifikaciji\n",
    "- **newid** - id koji dokumenta prema Reuters-21578 klasifikaciji\n",
    "- **has_topics** - moguće vrijednosti su YES, NO i BYPASS, kako je dokument označen u originalnom skupu podataka\n",
    "- **date** - datum i vrijeme nastanka dokumenta\n",
    "- **topics** - lista tema kojima članak pripada\n",
    "- **places** - lista mjesta kojima članak pripada\n",
    "- **people** - lista ljudi kojima članak pripada\n",
    "- **orgs** - lista kategorija orgs kojima članak pripada\n",
    "- **exchanges** - lista razmjena kojima članak pripada\n",
    "- **companies** - list kompanije kojima članak priprada\n",
    "- **title** - naslov članka\n",
    "- **dateline** - od kod je članak potekao, i dan u godini\n",
    "- **body** - tijelo tj. tekst članka\n",
    "- **author** - autor članka\n",
    "- **cgisplit** - moguće vrijednosti su [TRAINING-SET, PUBLISHED-TESTSET] ovisno o tome za što se članak koristi u eksperimentima  u izvješćima HAYES89 i HAYES90b\n",
    "- **lewissplit** - moguće vrijednosti su [TRAINING, TEST, NOT_USED] ovisno o tome za što se članak koristio u eksperimentima u izvješćima: LEWIS91d (poglavlja 9 i 10), LEWIS92b, LEWIS92e i LEWIS94b"
   ]
  },
  {
   "cell_type": "code",
   "execution_count": 6,
   "metadata": {},
   "outputs": [
    {
     "data": {
      "text/html": [
       "<div>\n",
       "<style scoped>\n",
       "    .dataframe tbody tr th:only-of-type {\n",
       "        vertical-align: middle;\n",
       "    }\n",
       "\n",
       "    .dataframe tbody tr th {\n",
       "        vertical-align: top;\n",
       "    }\n",
       "\n",
       "    .dataframe thead th {\n",
       "        text-align: right;\n",
       "    }\n",
       "</style>\n",
       "<table border=\"1\" class=\"dataframe\">\n",
       "  <thead>\n",
       "    <tr style=\"text-align: right;\">\n",
       "      <th></th>\n",
       "      <th>old_id</th>\n",
       "      <th>new_id</th>\n",
       "      <th>has_topics</th>\n",
       "      <th>date</th>\n",
       "      <th>topics</th>\n",
       "      <th>places</th>\n",
       "      <th>people</th>\n",
       "      <th>orgs</th>\n",
       "      <th>exchanges</th>\n",
       "      <th>companies</th>\n",
       "      <th>title</th>\n",
       "      <th>dateline</th>\n",
       "      <th>body</th>\n",
       "      <th>author</th>\n",
       "      <th>cgi_split</th>\n",
       "      <th>lewis_split</th>\n",
       "    </tr>\n",
       "  </thead>\n",
       "  <tbody>\n",
       "    <tr>\n",
       "      <th>0</th>\n",
       "      <td>5544</td>\n",
       "      <td>1</td>\n",
       "      <td>True</td>\n",
       "      <td>1987-02-26 15:01:01.790</td>\n",
       "      <td>cocoa</td>\n",
       "      <td>el-salvador</td>\n",
       "      <td></td>\n",
       "      <td></td>\n",
       "      <td></td>\n",
       "      <td></td>\n",
       "      <td>BAHIA COCOA REVIEW</td>\n",
       "      <td>SALVADOR, Feb 26 -</td>\n",
       "      <td>Showers continued throughout the week in\\nthe ...</td>\n",
       "      <td></td>\n",
       "      <td>TRAINING-SET</td>\n",
       "      <td>TRAIN</td>\n",
       "    </tr>\n",
       "    <tr>\n",
       "      <th>1</th>\n",
       "      <td>5545</td>\n",
       "      <td>2</td>\n",
       "      <td>True</td>\n",
       "      <td>1987-02-26 15:02:20.000</td>\n",
       "      <td></td>\n",
       "      <td>usa</td>\n",
       "      <td></td>\n",
       "      <td></td>\n",
       "      <td></td>\n",
       "      <td></td>\n",
       "      <td>STANDARD OIL &lt;SRD&gt; TO FORM FINANCIAL UNIT</td>\n",
       "      <td>CLEVELAND, Feb 26 -</td>\n",
       "      <td>Standard Oil Co and BP North America\\nInc said...</td>\n",
       "      <td></td>\n",
       "      <td>TRAINING-SET</td>\n",
       "      <td>TRAIN</td>\n",
       "    </tr>\n",
       "    <tr>\n",
       "      <th>2</th>\n",
       "      <td>5546</td>\n",
       "      <td>3</td>\n",
       "      <td>True</td>\n",
       "      <td>1987-02-26 15:03:27.510</td>\n",
       "      <td></td>\n",
       "      <td>usa</td>\n",
       "      <td></td>\n",
       "      <td></td>\n",
       "      <td></td>\n",
       "      <td></td>\n",
       "      <td>TEXAS COMMERCE BANCSHARES &lt;TCB&gt; FILES PLAN</td>\n",
       "      <td>HOUSTON, Feb 26 -</td>\n",
       "      <td>Texas Commerce Bancshares Inc's Texas\\nCommerc...</td>\n",
       "      <td></td>\n",
       "      <td>TRAINING-SET</td>\n",
       "      <td>TRAIN</td>\n",
       "    </tr>\n",
       "    <tr>\n",
       "      <th>3</th>\n",
       "      <td>5547</td>\n",
       "      <td>4</td>\n",
       "      <td>True</td>\n",
       "      <td>1987-02-26 15:07:13.720</td>\n",
       "      <td></td>\n",
       "      <td>usa</td>\n",
       "      <td></td>\n",
       "      <td></td>\n",
       "      <td></td>\n",
       "      <td></td>\n",
       "      <td>TALKING POINT/BANKAMERICA &lt;BAC&gt; EQUITY OFFER</td>\n",
       "      <td>LOS ANGELES, Feb 26 -</td>\n",
       "      <td>BankAmerica Corp is not under\\npressure to act...</td>\n",
       "      <td>by Janie Gabbett, Reuters</td>\n",
       "      <td>TRAINING-SET</td>\n",
       "      <td>TRAIN</td>\n",
       "    </tr>\n",
       "    <tr>\n",
       "      <th>4</th>\n",
       "      <td>5548</td>\n",
       "      <td>5</td>\n",
       "      <td>True</td>\n",
       "      <td>1987-02-26 15:10:44.600</td>\n",
       "      <td>grain</td>\n",
       "      <td>usa</td>\n",
       "      <td></td>\n",
       "      <td></td>\n",
       "      <td></td>\n",
       "      <td></td>\n",
       "      <td>NATIONAL AVERAGE PRICES FOR FARMER-OWNED RESERVE</td>\n",
       "      <td>WASHINGTON, Feb 26 -</td>\n",
       "      <td>The U.S. Agriculture Department\\nreported the ...</td>\n",
       "      <td></td>\n",
       "      <td>TRAINING-SET</td>\n",
       "      <td>TRAIN</td>\n",
       "    </tr>\n",
       "    <tr>\n",
       "      <th>5</th>\n",
       "      <td>5549</td>\n",
       "      <td>6</td>\n",
       "      <td>True</td>\n",
       "      <td>1987-02-26 15:14:36.410</td>\n",
       "      <td>veg-oil</td>\n",
       "      <td>argentina</td>\n",
       "      <td></td>\n",
       "      <td></td>\n",
       "      <td></td>\n",
       "      <td></td>\n",
       "      <td>ARGENTINE 1986/87 GRAIN/OILSEED REGISTRATIONS</td>\n",
       "      <td>BUENOS AIRES, Feb 26 -</td>\n",
       "      <td>Argentine grain board figures show\\ncrop regis...</td>\n",
       "      <td></td>\n",
       "      <td>TRAINING-SET</td>\n",
       "      <td>TRAIN</td>\n",
       "    </tr>\n",
       "    <tr>\n",
       "      <th>6</th>\n",
       "      <td>5550</td>\n",
       "      <td>7</td>\n",
       "      <td>True</td>\n",
       "      <td>1987-02-26 15:14:42.830</td>\n",
       "      <td></td>\n",
       "      <td>usa</td>\n",
       "      <td></td>\n",
       "      <td></td>\n",
       "      <td></td>\n",
       "      <td></td>\n",
       "      <td>RED LION INNS FILES PLANS OFFERING</td>\n",
       "      <td>PORTLAND, Ore., Feb 26 -</td>\n",
       "      <td>Red Lion Inns Limited Partnership\\nsaid it fil...</td>\n",
       "      <td></td>\n",
       "      <td>TRAINING-SET</td>\n",
       "      <td>TRAIN</td>\n",
       "    </tr>\n",
       "    <tr>\n",
       "      <th>7</th>\n",
       "      <td>5551</td>\n",
       "      <td>8</td>\n",
       "      <td>True</td>\n",
       "      <td>1987-02-26 15:15:40.120</td>\n",
       "      <td></td>\n",
       "      <td>usa</td>\n",
       "      <td></td>\n",
       "      <td></td>\n",
       "      <td></td>\n",
       "      <td></td>\n",
       "      <td>USX &lt;X&gt; DEBT DOWGRADED BY MOODY'S</td>\n",
       "      <td>NEW YORK, Feb 26 -</td>\n",
       "      <td>Moody's Investors Service Inc said it\\nlowered...</td>\n",
       "      <td></td>\n",
       "      <td>TRAINING-SET</td>\n",
       "      <td>TRAIN</td>\n",
       "    </tr>\n",
       "    <tr>\n",
       "      <th>8</th>\n",
       "      <td>5552</td>\n",
       "      <td>9</td>\n",
       "      <td>True</td>\n",
       "      <td>1987-02-26 15:17:11.200</td>\n",
       "      <td>earn</td>\n",
       "      <td>usa</td>\n",
       "      <td></td>\n",
       "      <td></td>\n",
       "      <td></td>\n",
       "      <td></td>\n",
       "      <td>CHAMPION PRODUCTS &lt;CH&gt; APPROVES STOCK SPLIT</td>\n",
       "      <td>ROCHESTER, N.Y., Feb 26 -</td>\n",
       "      <td>Champion Products Inc said its\\nboard of direc...</td>\n",
       "      <td></td>\n",
       "      <td>TRAINING-SET</td>\n",
       "      <td>TRAIN</td>\n",
       "    </tr>\n",
       "    <tr>\n",
       "      <th>9</th>\n",
       "      <td>5553</td>\n",
       "      <td>10</td>\n",
       "      <td>True</td>\n",
       "      <td>1987-02-26 15:18:06.670</td>\n",
       "      <td>acq</td>\n",
       "      <td>usa</td>\n",
       "      <td></td>\n",
       "      <td></td>\n",
       "      <td></td>\n",
       "      <td></td>\n",
       "      <td>COMPUTER TERMINAL SYSTEMS &lt;CPML&gt; COMPLETES SALE</td>\n",
       "      <td>COMMACK, N.Y., Feb 26 -</td>\n",
       "      <td>Computer Terminal Systems Inc said\\nit has com...</td>\n",
       "      <td></td>\n",
       "      <td>TRAINING-SET</td>\n",
       "      <td>TRAIN</td>\n",
       "    </tr>\n",
       "  </tbody>\n",
       "</table>\n",
       "</div>"
      ],
      "text/plain": [
       "  old_id new_id  has_topics                    date   topics       places  \\\n",
       "0   5544      1        True 1987-02-26 15:01:01.790    cocoa  el-salvador   \n",
       "1   5545      2        True 1987-02-26 15:02:20.000                   usa   \n",
       "2   5546      3        True 1987-02-26 15:03:27.510                   usa   \n",
       "3   5547      4        True 1987-02-26 15:07:13.720                   usa   \n",
       "4   5548      5        True 1987-02-26 15:10:44.600    grain          usa   \n",
       "5   5549      6        True 1987-02-26 15:14:36.410  veg-oil    argentina   \n",
       "6   5550      7        True 1987-02-26 15:14:42.830                   usa   \n",
       "7   5551      8        True 1987-02-26 15:15:40.120                   usa   \n",
       "8   5552      9        True 1987-02-26 15:17:11.200     earn          usa   \n",
       "9   5553     10        True 1987-02-26 15:18:06.670      acq          usa   \n",
       "\n",
       "  people orgs exchanges companies  \\\n",
       "0                                   \n",
       "1                                   \n",
       "2                                   \n",
       "3                                   \n",
       "4                                   \n",
       "5                                   \n",
       "6                                   \n",
       "7                                   \n",
       "8                                   \n",
       "9                                   \n",
       "\n",
       "                                              title  \\\n",
       "0                                BAHIA COCOA REVIEW   \n",
       "1         STANDARD OIL <SRD> TO FORM FINANCIAL UNIT   \n",
       "2        TEXAS COMMERCE BANCSHARES <TCB> FILES PLAN   \n",
       "3      TALKING POINT/BANKAMERICA <BAC> EQUITY OFFER   \n",
       "4  NATIONAL AVERAGE PRICES FOR FARMER-OWNED RESERVE   \n",
       "5     ARGENTINE 1986/87 GRAIN/OILSEED REGISTRATIONS   \n",
       "6                RED LION INNS FILES PLANS OFFERING   \n",
       "7                 USX <X> DEBT DOWGRADED BY MOODY'S   \n",
       "8       CHAMPION PRODUCTS <CH> APPROVES STOCK SPLIT   \n",
       "9   COMPUTER TERMINAL SYSTEMS <CPML> COMPLETES SALE   \n",
       "\n",
       "                    dateline  \\\n",
       "0         SALVADOR, Feb 26 -   \n",
       "1        CLEVELAND, Feb 26 -   \n",
       "2          HOUSTON, Feb 26 -   \n",
       "3      LOS ANGELES, Feb 26 -   \n",
       "4       WASHINGTON, Feb 26 -   \n",
       "5     BUENOS AIRES, Feb 26 -   \n",
       "6   PORTLAND, Ore., Feb 26 -   \n",
       "7         NEW YORK, Feb 26 -   \n",
       "8  ROCHESTER, N.Y., Feb 26 -   \n",
       "9    COMMACK, N.Y., Feb 26 -   \n",
       "\n",
       "                                                body  \\\n",
       "0  Showers continued throughout the week in\\nthe ...   \n",
       "1  Standard Oil Co and BP North America\\nInc said...   \n",
       "2  Texas Commerce Bancshares Inc's Texas\\nCommerc...   \n",
       "3  BankAmerica Corp is not under\\npressure to act...   \n",
       "4  The U.S. Agriculture Department\\nreported the ...   \n",
       "5  Argentine grain board figures show\\ncrop regis...   \n",
       "6  Red Lion Inns Limited Partnership\\nsaid it fil...   \n",
       "7  Moody's Investors Service Inc said it\\nlowered...   \n",
       "8  Champion Products Inc said its\\nboard of direc...   \n",
       "9  Computer Terminal Systems Inc said\\nit has com...   \n",
       "\n",
       "                      author     cgi_split lewis_split  \n",
       "0                             TRAINING-SET       TRAIN  \n",
       "1                             TRAINING-SET       TRAIN  \n",
       "2                             TRAINING-SET       TRAIN  \n",
       "3  by Janie Gabbett, Reuters  TRAINING-SET       TRAIN  \n",
       "4                             TRAINING-SET       TRAIN  \n",
       "5                             TRAINING-SET       TRAIN  \n",
       "6                             TRAINING-SET       TRAIN  \n",
       "7                             TRAINING-SET       TRAIN  \n",
       "8                             TRAINING-SET       TRAIN  \n",
       "9                             TRAINING-SET       TRAIN  "
      ]
     },
     "execution_count": 6,
     "metadata": {},
     "output_type": "execute_result"
    }
   ],
   "source": [
    "reuters_original.head(n=10)"
   ]
  },
  {
   "cell_type": "markdown",
   "metadata": {},
   "source": [
    "## Uklanjanje nebitnih značajki"
   ]
  },
  {
   "cell_type": "markdown",
   "metadata": {},
   "source": [
    "Najprije pogledajmo kako pojedine značajke stoje s brojem jedinstvenih vrijedosti"
   ]
  },
  {
   "cell_type": "code",
   "execution_count": 7,
   "metadata": {},
   "outputs": [
    {
     "name": "stdout",
     "output_type": "stream",
     "text": [
      "has_topics         1\n",
      "companies          1\n",
      "cgi_split          2\n",
      "lewis_split        3\n",
      "orgs              32\n",
      "exchanges         33\n",
      "topics            83\n",
      "people           111\n",
      "places           115\n",
      "author           345\n",
      "dateline        7865\n",
      "body           18783\n",
      "title          20024\n",
      "date           21577\n",
      "old_id         21578\n",
      "new_id         21578\n",
      "dtype: int64\n"
     ]
    },
    {
     "ename": "NameError",
     "evalue": "name 'plt' is not defined",
     "output_type": "error",
     "traceback": [
      "\u001b[1;31m---------------------------------------------------------------------------\u001b[0m",
      "\u001b[1;31mNameError\u001b[0m                                 Traceback (most recent call last)",
      "\u001b[1;32m~\\AppData\\Local\\Temp/ipykernel_25624/3212392017.py\u001b[0m in \u001b[0;36m<module>\u001b[1;34m\u001b[0m\n\u001b[0;32m      4\u001b[0m \u001b[1;33m\u001b[0m\u001b[0m\n\u001b[0;32m      5\u001b[0m \u001b[1;31m# Add labels and title\u001b[0m\u001b[1;33m\u001b[0m\u001b[1;33m\u001b[0m\u001b[0m\n\u001b[1;32m----> 6\u001b[1;33m \u001b[0mplt\u001b[0m\u001b[1;33m.\u001b[0m\u001b[0mtitle\u001b[0m\u001b[1;33m(\u001b[0m\u001b[1;34m'Categories and No of unique values for the 10 least monotone'\u001b[0m\u001b[1;33m)\u001b[0m\u001b[1;33m\u001b[0m\u001b[1;33m\u001b[0m\u001b[0m\n\u001b[0m\u001b[0;32m      7\u001b[0m \u001b[0mplt\u001b[0m\u001b[1;33m.\u001b[0m\u001b[0mxlabel\u001b[0m\u001b[1;33m(\u001b[0m\u001b[1;34m'Categories'\u001b[0m\u001b[1;33m)\u001b[0m\u001b[1;33m\u001b[0m\u001b[1;33m\u001b[0m\u001b[0m\n\u001b[0;32m      8\u001b[0m \u001b[0mplt\u001b[0m\u001b[1;33m.\u001b[0m\u001b[0mylabel\u001b[0m\u001b[1;33m(\u001b[0m\u001b[1;34m'No of unique values'\u001b[0m\u001b[1;33m)\u001b[0m\u001b[1;33m\u001b[0m\u001b[1;33m\u001b[0m\u001b[0m\n",
      "\u001b[1;31mNameError\u001b[0m: name 'plt' is not defined"
     ]
    },
    {
     "data": {
      "image/png": "[encoded data removed]",
      "text/plain": [
       "<Figure size 432x288 with 1 Axes>"
      ]
     },
     "metadata": {
      "needs_background": "light"
     },
     "output_type": "display_data"
    }
   ],
   "source": [
    "values_counts=reuters_original.nunique().sort_values()\n",
    "print(values_counts)\n",
    "values_counts.head(10).plot.bar()\n",
    "\n",
    "# Add labels and title\n",
    "plt.title('Categories and No of unique values for the 10 least monotone')\n",
    "plt.xlabel('Categories')\n",
    "plt.ylabel('No of unique values')\n",
    "\n",
    "# Show the plot\n",
    "plt.show()"
   ]
  },
  {
   "cell_type": "markdown",
   "metadata": {},
   "source": [
    "Možemo ukloniti monotone značajke **old_id**, **new_id**, kao i značajke **has_topics** i **companies** koje imaju konstantnu vrijednost korz cijeli skup podataka, stoga ne nose nikakvu informaciju.\n"
   ]
  },
  {
   "cell_type": "code",
   "execution_count": 8,
   "metadata": {},
   "outputs": [
    {
     "name": "stdout",
     "output_type": "stream",
     "text": [
      "(21578, 12)\n"
     ]
    },
    {
     "data": {
      "text/html": [
       "<div>\n",
       "<style scoped>\n",
       "    .dataframe tbody tr th:only-of-type {\n",
       "        vertical-align: middle;\n",
       "    }\n",
       "\n",
       "    .dataframe tbody tr th {\n",
       "        vertical-align: top;\n",
       "    }\n",
       "\n",
       "    .dataframe thead th {\n",
       "        text-align: right;\n",
       "    }\n",
       "</style>\n",
       "<table border=\"1\" class=\"dataframe\">\n",
       "  <thead>\n",
       "    <tr style=\"text-align: right;\">\n",
       "      <th></th>\n",
       "      <th>date</th>\n",
       "      <th>topics</th>\n",
       "      <th>places</th>\n",
       "      <th>people</th>\n",
       "      <th>orgs</th>\n",
       "      <th>exchanges</th>\n",
       "      <th>title</th>\n",
       "      <th>dateline</th>\n",
       "      <th>body</th>\n",
       "      <th>author</th>\n",
       "      <th>cgi_split</th>\n",
       "      <th>lewis_split</th>\n",
       "    </tr>\n",
       "  </thead>\n",
       "  <tbody>\n",
       "    <tr>\n",
       "      <th>0</th>\n",
       "      <td>1987-02-26 15:01:01.790</td>\n",
       "      <td>cocoa</td>\n",
       "      <td>el-salvador</td>\n",
       "      <td></td>\n",
       "      <td></td>\n",
       "      <td></td>\n",
       "      <td>BAHIA COCOA REVIEW</td>\n",
       "      <td>SALVADOR, Feb 26 -</td>\n",
       "      <td>Showers continued throughout the week in\\nthe ...</td>\n",
       "      <td></td>\n",
       "      <td>TRAINING-SET</td>\n",
       "      <td>TRAIN</td>\n",
       "    </tr>\n",
       "    <tr>\n",
       "      <th>1</th>\n",
       "      <td>1987-02-26 15:02:20.000</td>\n",
       "      <td></td>\n",
       "      <td>usa</td>\n",
       "      <td></td>\n",
       "      <td></td>\n",
       "      <td></td>\n",
       "      <td>STANDARD OIL &lt;SRD&gt; TO FORM FINANCIAL UNIT</td>\n",
       "      <td>CLEVELAND, Feb 26 -</td>\n",
       "      <td>Standard Oil Co and BP North America\\nInc said...</td>\n",
       "      <td></td>\n",
       "      <td>TRAINING-SET</td>\n",
       "      <td>TRAIN</td>\n",
       "    </tr>\n",
       "    <tr>\n",
       "      <th>2</th>\n",
       "      <td>1987-02-26 15:03:27.510</td>\n",
       "      <td></td>\n",
       "      <td>usa</td>\n",
       "      <td></td>\n",
       "      <td></td>\n",
       "      <td></td>\n",
       "      <td>TEXAS COMMERCE BANCSHARES &lt;TCB&gt; FILES PLAN</td>\n",
       "      <td>HOUSTON, Feb 26 -</td>\n",
       "      <td>Texas Commerce Bancshares Inc's Texas\\nCommerc...</td>\n",
       "      <td></td>\n",
       "      <td>TRAINING-SET</td>\n",
       "      <td>TRAIN</td>\n",
       "    </tr>\n",
       "    <tr>\n",
       "      <th>3</th>\n",
       "      <td>1987-02-26 15:07:13.720</td>\n",
       "      <td></td>\n",
       "      <td>usa</td>\n",
       "      <td></td>\n",
       "      <td></td>\n",
       "      <td></td>\n",
       "      <td>TALKING POINT/BANKAMERICA &lt;BAC&gt; EQUITY OFFER</td>\n",
       "      <td>LOS ANGELES, Feb 26 -</td>\n",
       "      <td>BankAmerica Corp is not under\\npressure to act...</td>\n",
       "      <td>by Janie Gabbett, Reuters</td>\n",
       "      <td>TRAINING-SET</td>\n",
       "      <td>TRAIN</td>\n",
       "    </tr>\n",
       "    <tr>\n",
       "      <th>4</th>\n",
       "      <td>1987-02-26 15:10:44.600</td>\n",
       "      <td>grain</td>\n",
       "      <td>usa</td>\n",
       "      <td></td>\n",
       "      <td></td>\n",
       "      <td></td>\n",
       "      <td>NATIONAL AVERAGE PRICES FOR FARMER-OWNED RESERVE</td>\n",
       "      <td>WASHINGTON, Feb 26 -</td>\n",
       "      <td>The U.S. Agriculture Department\\nreported the ...</td>\n",
       "      <td></td>\n",
       "      <td>TRAINING-SET</td>\n",
       "      <td>TRAIN</td>\n",
       "    </tr>\n",
       "  </tbody>\n",
       "</table>\n",
       "</div>"
      ],
      "text/plain": [
       "                     date topics       places people orgs exchanges  \\\n",
       "0 1987-02-26 15:01:01.790  cocoa  el-salvador                         \n",
       "1 1987-02-26 15:02:20.000                 usa                         \n",
       "2 1987-02-26 15:03:27.510                 usa                         \n",
       "3 1987-02-26 15:07:13.720                 usa                         \n",
       "4 1987-02-26 15:10:44.600  grain          usa                         \n",
       "\n",
       "                                              title               dateline  \\\n",
       "0                                BAHIA COCOA REVIEW     SALVADOR, Feb 26 -   \n",
       "1         STANDARD OIL <SRD> TO FORM FINANCIAL UNIT    CLEVELAND, Feb 26 -   \n",
       "2        TEXAS COMMERCE BANCSHARES <TCB> FILES PLAN      HOUSTON, Feb 26 -   \n",
       "3      TALKING POINT/BANKAMERICA <BAC> EQUITY OFFER  LOS ANGELES, Feb 26 -   \n",
       "4  NATIONAL AVERAGE PRICES FOR FARMER-OWNED RESERVE   WASHINGTON, Feb 26 -   \n",
       "\n",
       "                                                body  \\\n",
       "0  Showers continued throughout the week in\\nthe ...   \n",
       "1  Standard Oil Co and BP North America\\nInc said...   \n",
       "2  Texas Commerce Bancshares Inc's Texas\\nCommerc...   \n",
       "3  BankAmerica Corp is not under\\npressure to act...   \n",
       "4  The U.S. Agriculture Department\\nreported the ...   \n",
       "\n",
       "                      author     cgi_split lewis_split  \n",
       "0                             TRAINING-SET       TRAIN  \n",
       "1                             TRAINING-SET       TRAIN  \n",
       "2                             TRAINING-SET       TRAIN  \n",
       "3  by Janie Gabbett, Reuters  TRAINING-SET       TRAIN  \n",
       "4                             TRAINING-SET       TRAIN  "
      ]
     },
     "execution_count": 8,
     "metadata": {},
     "output_type": "execute_result"
    }
   ],
   "source": [
    "reuters2=reuters_original.copy()\n",
    "del reuters2['old_id']\n",
    "del reuters2['new_id']\n",
    "del reuters2['companies']\n",
    "del reuters2['has_topics']\n",
    "print(reuters2.shape)\n",
    "reuters2.head()"
   ]
  },
  {
   "cell_type": "markdown",
   "metadata": {},
   "source": [
    "Možemo pretpostaviti i da su značajke **date** i **dateline** uniformno raspoređene ili podaci nedostaju."
   ]
  },
  {
   "cell_type": "code",
   "execution_count": 9,
   "metadata": {},
   "outputs": [
    {
     "data": {
      "image/png": "[encoded data removed]",
      "text/plain": [
       "<Figure size 720x432 with 1 Axes>"
      ]
     },
     "metadata": {
      "needs_background": "light"
     },
     "output_type": "display_data"
    }
   ],
   "source": [
    "import matplotlib.pyplot as plt\n",
    "\n",
    "reuters2['date'] = pd.to_datetime(reuters2['date'])\n",
    "\n",
    "count_per_date = reuters2.groupby('date').size().reset_index(name='count')\n",
    "\n",
    "# Plotting\n",
    "plt.figure(figsize=(10, 6))\n",
    "plt.plot(count_per_date['date'], count_per_date['count'], marker='o', linestyle='-')\n",
    "plt.title('Number of Records Over Time')\n",
    "plt.xlabel('Date')\n",
    "plt.ylabel('Number of Records')\n",
    "plt.grid(True)\n",
    "plt.show()"
   ]
  },
  {
   "cell_type": "code",
   "execution_count": 10,
   "metadata": {},
   "outputs": [
    {
     "name": "stdout",
     "output_type": "stream",
     "text": [
      "(21578, 10)\n"
     ]
    },
    {
     "data": {
      "text/html": [
       "<div>\n",
       "<style scoped>\n",
       "    .dataframe tbody tr th:only-of-type {\n",
       "        vertical-align: middle;\n",
       "    }\n",
       "\n",
       "    .dataframe tbody tr th {\n",
       "        vertical-align: top;\n",
       "    }\n",
       "\n",
       "    .dataframe thead th {\n",
       "        text-align: right;\n",
       "    }\n",
       "</style>\n",
       "<table border=\"1\" class=\"dataframe\">\n",
       "  <thead>\n",
       "    <tr style=\"text-align: right;\">\n",
       "      <th></th>\n",
       "      <th>topics</th>\n",
       "      <th>places</th>\n",
       "      <th>people</th>\n",
       "      <th>orgs</th>\n",
       "      <th>exchanges</th>\n",
       "      <th>title</th>\n",
       "      <th>body</th>\n",
       "      <th>author</th>\n",
       "      <th>cgi_split</th>\n",
       "      <th>lewis_split</th>\n",
       "    </tr>\n",
       "  </thead>\n",
       "  <tbody>\n",
       "    <tr>\n",
       "      <th>0</th>\n",
       "      <td>cocoa</td>\n",
       "      <td>el-salvador</td>\n",
       "      <td></td>\n",
       "      <td></td>\n",
       "      <td></td>\n",
       "      <td>BAHIA COCOA REVIEW</td>\n",
       "      <td>Showers continued throughout the week in\\nthe ...</td>\n",
       "      <td></td>\n",
       "      <td>TRAINING-SET</td>\n",
       "      <td>TRAIN</td>\n",
       "    </tr>\n",
       "    <tr>\n",
       "      <th>1</th>\n",
       "      <td></td>\n",
       "      <td>usa</td>\n",
       "      <td></td>\n",
       "      <td></td>\n",
       "      <td></td>\n",
       "      <td>STANDARD OIL &lt;SRD&gt; TO FORM FINANCIAL UNIT</td>\n",
       "      <td>Standard Oil Co and BP North America\\nInc said...</td>\n",
       "      <td></td>\n",
       "      <td>TRAINING-SET</td>\n",
       "      <td>TRAIN</td>\n",
       "    </tr>\n",
       "    <tr>\n",
       "      <th>2</th>\n",
       "      <td></td>\n",
       "      <td>usa</td>\n",
       "      <td></td>\n",
       "      <td></td>\n",
       "      <td></td>\n",
       "      <td>TEXAS COMMERCE BANCSHARES &lt;TCB&gt; FILES PLAN</td>\n",
       "      <td>Texas Commerce Bancshares Inc's Texas\\nCommerc...</td>\n",
       "      <td></td>\n",
       "      <td>TRAINING-SET</td>\n",
       "      <td>TRAIN</td>\n",
       "    </tr>\n",
       "    <tr>\n",
       "      <th>3</th>\n",
       "      <td></td>\n",
       "      <td>usa</td>\n",
       "      <td></td>\n",
       "      <td></td>\n",
       "      <td></td>\n",
       "      <td>TALKING POINT/BANKAMERICA &lt;BAC&gt; EQUITY OFFER</td>\n",
       "      <td>BankAmerica Corp is not under\\npressure to act...</td>\n",
       "      <td>by Janie Gabbett, Reuters</td>\n",
       "      <td>TRAINING-SET</td>\n",
       "      <td>TRAIN</td>\n",
       "    </tr>\n",
       "    <tr>\n",
       "      <th>4</th>\n",
       "      <td>grain</td>\n",
       "      <td>usa</td>\n",
       "      <td></td>\n",
       "      <td></td>\n",
       "      <td></td>\n",
       "      <td>NATIONAL AVERAGE PRICES FOR FARMER-OWNED RESERVE</td>\n",
       "      <td>The U.S. Agriculture Department\\nreported the ...</td>\n",
       "      <td></td>\n",
       "      <td>TRAINING-SET</td>\n",
       "      <td>TRAIN</td>\n",
       "    </tr>\n",
       "  </tbody>\n",
       "</table>\n",
       "</div>"
      ],
      "text/plain": [
       "  topics       places people orgs exchanges  \\\n",
       "0  cocoa  el-salvador                         \n",
       "1                 usa                         \n",
       "2                 usa                         \n",
       "3                 usa                         \n",
       "4  grain          usa                         \n",
       "\n",
       "                                              title  \\\n",
       "0                                BAHIA COCOA REVIEW   \n",
       "1         STANDARD OIL <SRD> TO FORM FINANCIAL UNIT   \n",
       "2        TEXAS COMMERCE BANCSHARES <TCB> FILES PLAN   \n",
       "3      TALKING POINT/BANKAMERICA <BAC> EQUITY OFFER   \n",
       "4  NATIONAL AVERAGE PRICES FOR FARMER-OWNED RESERVE   \n",
       "\n",
       "                                                body  \\\n",
       "0  Showers continued throughout the week in\\nthe ...   \n",
       "1  Standard Oil Co and BP North America\\nInc said...   \n",
       "2  Texas Commerce Bancshares Inc's Texas\\nCommerc...   \n",
       "3  BankAmerica Corp is not under\\npressure to act...   \n",
       "4  The U.S. Agriculture Department\\nreported the ...   \n",
       "\n",
       "                      author     cgi_split lewis_split  \n",
       "0                             TRAINING-SET       TRAIN  \n",
       "1                             TRAINING-SET       TRAIN  \n",
       "2                             TRAINING-SET       TRAIN  \n",
       "3  by Janie Gabbett, Reuters  TRAINING-SET       TRAIN  \n",
       "4                             TRAINING-SET       TRAIN  "
      ]
     },
     "execution_count": 10,
     "metadata": {},
     "output_type": "execute_result"
    }
   ],
   "source": [
    "del reuters2['date']\n",
    "del reuters2['dateline']\n",
    "print(reuters2.shape)\n",
    "reuters2.head()"
   ]
  },
  {
   "cell_type": "markdown",
   "metadata": {},
   "source": [
    "## Vizualizacija podataka"
   ]
  },
  {
   "cell_type": "markdown",
   "metadata": {},
   "source": [
    "Pogledajmo sada preostale značajke i pokušajmo ih vizualno predočiti"
   ]
  },
  {
   "cell_type": "code",
   "execution_count": 112,
   "metadata": {},
   "outputs": [
    {
     "name": "stdout",
     "output_type": "stream",
     "text": [
      "cgi_split          2\n",
      "lewis_split        3\n",
      "orgs              32\n",
      "exchanges         33\n",
      "topics            83\n",
      "people           111\n",
      "places           115\n",
      "author           345\n",
      "body           18783\n",
      "title          20024\n",
      "dtype: int64\n"
     ]
    }
   ],
   "source": [
    "values_counts2=reuters2.nunique().sort_values()\n",
    "print(values_counts2)"
   ]
  },
  {
   "cell_type": "markdown",
   "metadata": {},
   "source": [
    "### Places, People, Topics"
   ]
  },
  {
   "cell_type": "markdown",
   "metadata": {},
   "source": [
    "#### Places"
   ]
  },
  {
   "cell_type": "code",
   "execution_count": 120,
   "metadata": {},
   "outputs": [
    {
     "data": {
      "text/html": [
       "<div>\n",
       "<style scoped>\n",
       "    .dataframe tbody tr th:only-of-type {\n",
       "        vertical-align: middle;\n",
       "    }\n",
       "\n",
       "    .dataframe tbody tr th {\n",
       "        vertical-align: top;\n",
       "    }\n",
       "\n",
       "    .dataframe thead th {\n",
       "        text-align: right;\n",
       "    }\n",
       "</style>\n",
       "<table border=\"1\" class=\"dataframe\">\n",
       "  <thead>\n",
       "    <tr style=\"text-align: right;\">\n",
       "      <th></th>\n",
       "      <th>Place</th>\n",
       "      <th>Count</th>\n",
       "    </tr>\n",
       "  </thead>\n",
       "  <tbody>\n",
       "    <tr>\n",
       "      <th>0</th>\n",
       "      <td>usa</td>\n",
       "      <td>11970</td>\n",
       "    </tr>\n",
       "    <tr>\n",
       "      <th>1</th>\n",
       "      <td>uk</td>\n",
       "      <td>1275</td>\n",
       "    </tr>\n",
       "    <tr>\n",
       "      <th>2</th>\n",
       "      <td>canada</td>\n",
       "      <td>923</td>\n",
       "    </tr>\n",
       "    <tr>\n",
       "      <th>3</th>\n",
       "      <td>japan</td>\n",
       "      <td>729</td>\n",
       "    </tr>\n",
       "    <tr>\n",
       "      <th>4</th>\n",
       "      <td>west-germany</td>\n",
       "      <td>399</td>\n",
       "    </tr>\n",
       "    <tr>\n",
       "      <th>5</th>\n",
       "      <td>france</td>\n",
       "      <td>350</td>\n",
       "    </tr>\n",
       "    <tr>\n",
       "      <th>6</th>\n",
       "      <td>australia</td>\n",
       "      <td>210</td>\n",
       "    </tr>\n",
       "    <tr>\n",
       "      <th>7</th>\n",
       "      <td>switzerland</td>\n",
       "      <td>181</td>\n",
       "    </tr>\n",
       "    <tr>\n",
       "      <th>8</th>\n",
       "      <td>belgium</td>\n",
       "      <td>177</td>\n",
       "    </tr>\n",
       "    <tr>\n",
       "      <th>9</th>\n",
       "      <td>brazil</td>\n",
       "      <td>168</td>\n",
       "    </tr>\n",
       "  </tbody>\n",
       "</table>\n",
       "</div>"
      ],
      "text/plain": [
       "          Place  Count\n",
       "0           usa  11970\n",
       "1            uk   1275\n",
       "2        canada    923\n",
       "3         japan    729\n",
       "4  west-germany    399\n",
       "5        france    350\n",
       "6     australia    210\n",
       "7   switzerland    181\n",
       "8       belgium    177\n",
       "9        brazil    168"
      ]
     },
     "execution_count": 120,
     "metadata": {},
     "output_type": "execute_result"
    }
   ],
   "source": [
    "places_counts = reuters2[reuters2.places!='']['places'].value_counts().reset_index()\n",
    "places_counts.columns = ['Place', 'Count']\n",
    "places_counts = places_counts.sort_values(by='Count', ascending=False)\n",
    "places_counts = places_counts.reset_index(drop=True)\n",
    "places_counts.head(10)"
   ]
  },
  {
   "cell_type": "code",
   "execution_count": 123,
   "metadata": {},
   "outputs": [
    {
     "data": {
      "image/png": "[encoded data removed]",
      "text/plain": [
       "<Figure size 720x432 with 1 Axes>"
      ]
     },
     "metadata": {
      "needs_background": "light"
     },
     "output_type": "display_data"
    }
   ],
   "source": [
    "places_counts.head(10).plot.bar(x='Place', y='Count', rot=0, title='Number of articles by Country', figsize=(10, 6), color='m')\n",
    "\n",
    "# Add labels and show the plot\n",
    "plt.xlabel('Country')\n",
    "plt.ylabel('Value')\n",
    "plt.show()"
   ]
  },
  {
   "cell_type": "markdown",
   "metadata": {},
   "source": [
    "#### People"
   ]
  },
  {
   "cell_type": "code",
   "execution_count": 114,
   "metadata": {},
   "outputs": [
    {
     "data": {
      "text/html": [
       "<div>\n",
       "<style scoped>\n",
       "    .dataframe tbody tr th:only-of-type {\n",
       "        vertical-align: middle;\n",
       "    }\n",
       "\n",
       "    .dataframe tbody tr th {\n",
       "        vertical-align: top;\n",
       "    }\n",
       "\n",
       "    .dataframe thead th {\n",
       "        text-align: right;\n",
       "    }\n",
       "</style>\n",
       "<table border=\"1\" class=\"dataframe\">\n",
       "  <thead>\n",
       "    <tr style=\"text-align: right;\">\n",
       "      <th></th>\n",
       "      <th>People</th>\n",
       "      <th>Count</th>\n",
       "    </tr>\n",
       "  </thead>\n",
       "  <tbody>\n",
       "    <tr>\n",
       "      <th>0</th>\n",
       "      <td>reagan</td>\n",
       "      <td>157</td>\n",
       "    </tr>\n",
       "    <tr>\n",
       "      <th>1</th>\n",
       "      <td>james-baker</td>\n",
       "      <td>142</td>\n",
       "    </tr>\n",
       "    <tr>\n",
       "      <th>2</th>\n",
       "      <td>nakasone</td>\n",
       "      <td>55</td>\n",
       "    </tr>\n",
       "    <tr>\n",
       "      <th>3</th>\n",
       "      <td>lawson</td>\n",
       "      <td>55</td>\n",
       "    </tr>\n",
       "    <tr>\n",
       "      <th>4</th>\n",
       "      <td>volcker</td>\n",
       "      <td>54</td>\n",
       "    </tr>\n",
       "    <tr>\n",
       "      <th>5</th>\n",
       "      <td>miyazawa</td>\n",
       "      <td>50</td>\n",
       "    </tr>\n",
       "    <tr>\n",
       "      <th>6</th>\n",
       "      <td>yeutter</td>\n",
       "      <td>49</td>\n",
       "    </tr>\n",
       "    <tr>\n",
       "      <th>7</th>\n",
       "      <td>lyng</td>\n",
       "      <td>39</td>\n",
       "    </tr>\n",
       "    <tr>\n",
       "      <th>8</th>\n",
       "      <td>stoltenberg</td>\n",
       "      <td>35</td>\n",
       "    </tr>\n",
       "    <tr>\n",
       "      <th>9</th>\n",
       "      <td>sumita</td>\n",
       "      <td>33</td>\n",
       "    </tr>\n",
       "  </tbody>\n",
       "</table>\n",
       "</div>"
      ],
      "text/plain": [
       "        People  Count\n",
       "0       reagan    157\n",
       "1  james-baker    142\n",
       "2     nakasone     55\n",
       "3       lawson     55\n",
       "4      volcker     54\n",
       "5     miyazawa     50\n",
       "6      yeutter     49\n",
       "7         lyng     39\n",
       "8  stoltenberg     35\n",
       "9       sumita     33"
      ]
     },
     "execution_count": 114,
     "metadata": {},
     "output_type": "execute_result"
    }
   ],
   "source": [
    "people_counts = reuters2[reuters2.people!='']['people'].value_counts().reset_index()\n",
    "people_counts.columns = ['People', 'Count']\n",
    "people_counts = people_counts.sort_values(by='Count', ascending=False)\n",
    "people_counts = people_counts.reset_index(drop=True)\n",
    "people_counts.head(10)"
   ]
  },
  {
   "cell_type": "code",
   "execution_count": 126,
   "metadata": {},
   "outputs": [
    {
     "data": {
      "image/png": "[encoded data removed]",
      "text/plain": [
       "<Figure size 720x432 with 1 Axes>"
      ]
     },
     "metadata": {
      "needs_background": "light"
     },
     "output_type": "display_data"
    }
   ],
   "source": [
    "people_counts.head(10).plot.bar(x='People', y='Count', rot=0, title='Number of articles regarding different people', figsize=(10, 6), color='c')\n",
    "\n",
    "# Add labels and show the plot\n",
    "plt.xlabel('Person')\n",
    "plt.ylabel('Value')\n",
    "plt.show()"
   ]
  },
  {
   "cell_type": "markdown",
   "metadata": {},
   "source": [
    "#### Topics"
   ]
  },
  {
   "cell_type": "code",
   "execution_count": 135,
   "metadata": {},
   "outputs": [
    {
     "data": {
      "text/plain": [
       "            10211\n",
       "earn         3972\n",
       "acq          2423\n",
       "money         859\n",
       "fx            682\n",
       "crude         543\n",
       "grain         537\n",
       "trade         473\n",
       "interest      339\n",
       "ship          209\n",
       "supply        177\n",
       "sugar         154\n",
       "gnp           127\n",
       "coffee        126\n",
       "gold          123\n",
       "oil            97\n",
       "veg            94\n",
       "gas            89\n",
       "cpi            86\n",
       "oilseed        81\n",
       "cocoa          67\n",
       "Name: topics, dtype: int64"
      ]
     },
     "execution_count": 135,
     "metadata": {},
     "output_type": "execute_result"
    }
   ],
   "source": [
    "topics_series = reuters2['topics'].str.split('-').explode()\n",
    "\n",
    "topic_counts = topics_series.value_counts().head(21)\n",
    "topic_counts"
   ]
  },
  {
   "cell_type": "code",
   "execution_count": 136,
   "metadata": {},
   "outputs": [
    {
     "data": {
      "image/png": "[encoded data removed]",
      "text/plain": [
       "<Figure size 720x432 with 1 Axes>"
      ]
     },
     "metadata": {
      "needs_background": "light"
     },
     "output_type": "display_data"
    }
   ],
   "source": [
    "plt.figure(figsize=(10, 6))\n",
    "topic_counts[1:21].plot(kind='bar', color='green')\n",
    "plt.title('Top 20 Topics and Their Frequencies')\n",
    "plt.xlabel('Topics')\n",
    "plt.ylabel('Frequency')\n",
    "plt.show()"
   ]
  },
  {
   "cell_type": "markdown",
   "metadata": {},
   "source": [
    "### Body i Title - veličina"
   ]
  },
  {
   "cell_type": "code",
   "execution_count": 83,
   "metadata": {},
   "outputs": [
    {
     "data": {
      "text/plain": [
       "count    19043.000000\n",
       "mean       134.813265\n",
       "std        135.401069\n",
       "min          1.000000\n",
       "25%         56.000000\n",
       "50%         89.000000\n",
       "75%        166.000000\n",
       "max       1668.000000\n",
       "Name: body, dtype: float64"
      ]
     },
     "execution_count": 83,
     "metadata": {},
     "output_type": "execute_result"
    }
   ],
   "source": [
    "body_word_count = reuters2[reuters2.body!='']['body'].apply(lambda x: len(str(x).split()))\n",
    "body_word_count.describe()"
   ]
  },
  {
   "cell_type": "code",
   "execution_count": 84,
   "metadata": {},
   "outputs": [
    {
     "data": {
      "image/png": "[encoded data removed]",
      "text/plain": [
       "<Figure size 864x576 with 1 Axes>"
      ]
     },
     "metadata": {
      "needs_background": "light"
     },
     "output_type": "display_data"
    }
   ],
   "source": [
    "plt.figure(figsize=(12, 8))\n",
    "\n",
    "bin_edges = list(range(0,501,20))\n",
    "\n",
    "plt.hist(body_word_count, bins=bin_edges, color='skyblue', edgecolor='black', label='Sky Blue', alpha=0.7, align='mid')\n",
    "\n",
    "plt.title('Distribution of Word Counts in the Body (not including documents with empty body)')\n",
    "plt.xlabel('Number of Words')\n",
    "plt.ylabel('Frequency')\n",
    "\n",
    "plt.xticks(bin_edges)\n",
    "\n",
    "plt.show()"
   ]
  },
  {
   "cell_type": "code",
   "execution_count": 85,
   "metadata": {},
   "outputs": [
    {
     "data": {
      "text/plain": [
       "count    20841.000000\n",
       "mean         7.277530\n",
       "std          1.979365\n",
       "min          1.000000\n",
       "25%          6.000000\n",
       "50%          7.000000\n",
       "75%          8.000000\n",
       "max         26.000000\n",
       "Name: title, dtype: float64"
      ]
     },
     "execution_count": 85,
     "metadata": {},
     "output_type": "execute_result"
    }
   ],
   "source": [
    "title_word_count = reuters2[reuters2.title!='']['title'].apply(lambda x: len(str(x).split()))\n",
    "title_word_count.describe()"
   ]
  },
  {
   "cell_type": "code",
   "execution_count": 86,
   "metadata": {},
   "outputs": [
    {
     "data": {
      "image/png": "[encoded data removed]",
      "text/plain": [
       "<Figure size 864x576 with 1 Axes>"
      ]
     },
     "metadata": {
      "needs_background": "light"
     },
     "output_type": "display_data"
    }
   ],
   "source": [
    "plt.figure(figsize=(12, 8))\n",
    "\n",
    "bin_edges = list(range(0,26,1))\n",
    "\n",
    "plt.hist(title_word_count, bins=bin_edges, color='salmon', edgecolor='black', label='Sky Blue', alpha=0.7, align='mid')\n",
    "\n",
    "plt.title('Distribution of Word Counts in the Title (not including documents with empty totle)')\n",
    "plt.xlabel('Number of Words')\n",
    "plt.ylabel('Frequency')\n",
    "\n",
    "plt.xticks(bin_edges)\n",
    "\n",
    "plt.show()"
   ]
  },
  {
   "cell_type": "code",
   "execution_count": 87,
   "metadata": {},
   "outputs": [
    {
     "data": {
      "image/png": "[encoded data removed]",
      "text/plain": [
       "<Figure size 576x432 with 1 Axes>"
      ]
     },
     "metadata": {
      "needs_background": "light"
     },
     "output_type": "display_data"
    }
   ],
   "source": [
    "plt.figure(figsize=(8, 6))\n",
    "plt.boxplot([body_word_count, title_word_count], labels=['Body', 'Title'])\n",
    "\n",
    "# Add labels and title\n",
    "plt.title('Boxplot of Number of words in Body and Title')\n",
    "plt.ylabel('Number of words')\n",
    "\n",
    "# Show the plot\n",
    "plt.show()"
   ]
  },
  {
   "cell_type": "markdown",
   "metadata": {},
   "source": [
    "## Pretprocesuiranje u oblik pogodan modelu"
   ]
  },
  {
   "cell_type": "markdown",
   "metadata": {},
   "source": [
    "U radu se uspoređuju performanse SVM klasifikatora u kombinaciji s tri različite jezgrene funkcije - u radu predstavljeni SSK (String Subsequence Kernel) i klasični pristupi reprezentaciji teksta NGK (N-Gram Kernel) i WK (Word Kernel tj. Bag-of-Words pristup)."
   ]
  },
  {
   "cell_type": "markdown",
   "metadata": {},
   "source": [
    "Pretprocesuiranje - bitni su samo topics i body\n",
    "Topics - unnest, i ostaviti samo dokumente sa temema - \"earn\", \"acq\", \"crude\" i \"corn\"/\"grain\"\n",
    "Body - ukloniti interpunkcije - .?! zamijeniti razmacima, ostale interpukcije samo ukloniti \n",
    "     - ukloniti stop rijeci - the an and ..."
   ]
  },
  {
   "cell_type": "code",
   "execution_count": 16,
   "metadata": {},
   "outputs": [
    {
     "data": {
      "text/plain": [
       "                10211\n",
       "earn             3972\n",
       "acq              2423\n",
       "money-fx          682\n",
       "crude             543\n",
       "grain             537\n",
       "trade             473\n",
       "interest          339\n",
       "ship              209\n",
       "money-supply      177\n",
       "sugar             154\n",
       "gnp               127\n",
       "coffee            126\n",
       "gold              123\n",
       "veg-oil            94\n",
       "cpi                86\n",
       "oilseed            81\n",
       "cocoa              67\n",
       "copper             62\n",
       "reserves           62\n",
       "bop                60\n",
       "livestock          58\n",
       "ipi                57\n",
       "jobs               57\n",
       "alum               53\n",
       "iron-steel         52\n",
       "nat-gas            51\n",
       "dlr                46\n",
       "rubber             42\n",
       "gas                38\n",
       "Name: topics, dtype: int64"
      ]
     },
     "execution_count": 16,
     "metadata": {},
     "output_type": "execute_result"
    }
   ],
   "source": [
    "tc=reuters_original['topics'].value_counts()\n",
    "tc.head(30)"
   ]
  },
  {
   "cell_type": "code",
   "execution_count": 17,
   "metadata": {},
   "outputs": [],
   "source": [
    "\n",
    "#keep only topics and body fields from the original dataset\n",
    "reuters_processed=reuters_original[['topics', 'body']].copy()\n",
    "\n",
    "#for documents with more topics separate the topics into individual records\n",
    "\n",
    "#reuters_processed['topics'] = reuters_processed['topics'].str.split('-')\n",
    "#reuters_processed = reuters_processed.explode('topics')\n",
    "\n",
    "#only keep documents labeled as one of the 4 classes considered in the paper\n",
    "topics_of_interest = ['earn', 'acq', 'crude', 'corn']\n",
    "reuters_processed = reuters_processed[reuters_processed['topics'].isin(topics_of_interest)]\n"
   ]
  },
  {
   "cell_type": "code",
   "execution_count": 19,
   "metadata": {},
   "outputs": [
    {
     "name": "stdout",
     "output_type": "stream",
     "text": [
      "earn     3972\n",
      "acq      2423\n",
      "crude     543\n",
      "corn        9\n",
      "Name: topics, dtype: int64\n"
     ]
    }
   ],
   "source": [
    "topic_counts=reuters_processed['topics'].value_counts()\n",
    "print(topic_counts)"
   ]
  },
  {
   "cell_type": "code",
   "execution_count": 21,
   "metadata": {},
   "outputs": [
    {
     "name": "stderr",
     "output_type": "stream",
     "text": [
      "[nltk_data] Downloading package stopwords to\n",
      "[nltk_data]     C:\\Users\\magda\\AppData\\Roaming\\nltk_data...\n",
      "[nltk_data]   Package stopwords is already up-to-date!\n",
      "[nltk_data] Downloading package punkt to\n",
      "[nltk_data]     C:\\Users\\magda\\AppData\\Roaming\\nltk_data...\n",
      "[nltk_data]   Package punkt is already up-to-date!\n"
     ]
    }
   ],
   "source": [
    "import string\n",
    "import nltk\n",
    "nltk.download('stopwords')\n",
    "nltk.download('punkt')\n",
    "from nltk.corpus import stopwords\n",
    "from nltk.tokenize import word_tokenize\n",
    "\n",
    "def preprocess_text(text):\n",
    "    '''replaces punctuation and stopwords with spaces, turns everything to lowercase, removes possible multiple spaces'''\n",
    "    # replace all punctuation with a space\n",
    "    translator = str.maketrans(string.punctuation, ' ' * len(string.punctuation))\n",
    "    text = text.translate(translator)\n",
    "    \n",
    "    # tokenize the text\n",
    "    tokens = word_tokenize(text.lower())  # Convert to lowercase for consistency\n",
    "    \n",
    "    # replace all stop words with space\n",
    "    stop_words = set(stopwords.words('english'))\n",
    "    tokens = [' ' if word in stop_words else word for word in tokens]\n",
    "    \n",
    "    # Join the tokens back into a string\n",
    "    processed_text = ' '.join(tokens)\n",
    "\n",
    "    # replace multiple contiguous spaces with a single space\n",
    "    processed_text = ' '.join(processed_text.split())\n",
    "    \n",
    "    return processed_text"
   ]
  },
  {
   "cell_type": "code",
   "execution_count": 22,
   "metadata": {},
   "outputs": [
    {
     "name": "stdout",
     "output_type": "stream",
     "text": [
      "earn     3761\n",
      "acq      2186\n",
      "crude     483\n",
      "corn        8\n",
      "Name: topics, dtype: int64\n"
     ]
    }
   ],
   "source": [
    "#process the body field\n",
    "reuters_processed['body'] = reuters_processed['body'].apply(preprocess_text)\n",
    "\n",
    "#remove all records with empty body\n",
    "reuters_processed = reuters_processed[reuters_processed.body!='']\n",
    "reuters_processed.to_csv(\"data/preprocessed.csv\")\n",
    "topic_counts_final=reuters_processed['topics'].value_counts()\n",
    "print(topic_counts_final)"
   ]
  },
  {
   "cell_type": "markdown",
   "metadata": {},
   "source": [
    "split used in experiments: earn 152 (40); acq 114 (25); crude 76 (15); corn 38 (10)\n",
    "\n",
    "for corn - since no data- well do 6(2)"
   ]
  }
 ],
 "metadata": {
  "kernelspec": {
   "display_name": "Python 3",
   "language": "python",
   "name": "python3"
  },
  "language_info": {
   "codemirror_mode": {
    "name": "ipython",
    "version": 3
   },
   "file_extension": ".py",
   "mimetype": "text/x-python",
   "name": "python",
   "nbconvert_exporter": "python",
   "pygments_lexer": "ipython3",
   "version": "3.10.0"
  }
 },
 "nbformat": 4,
 "nbformat_minor": 2
}
